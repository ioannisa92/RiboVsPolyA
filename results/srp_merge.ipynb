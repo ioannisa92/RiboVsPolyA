{
 "cells": [
  {
   "cell_type": "markdown",
   "id": "77468acf-56a2-4503-83a4-4d9efc29b591",
   "metadata": {},
   "source": [
    "# Random Forest Complete Dataframe Creation"
   ]
  },
  {
   "cell_type": "code",
   "execution_count": null,
   "id": "a68d6f01-70f1-4857-91a2-66faefe605df",
   "metadata": {},
   "outputs": [],
   "source": [
    "import os\n",
    "import pandas as pd\n",
    "import numpy as np\n",
    "import re"
   ]
  },
  {
   "cell_type": "code",
   "execution_count": 14,
   "id": "3edb6bda-6642-45a3-b077-1d8b3de6046c",
   "metadata": {},
   "outputs": [
    {
     "name": "stdout",
     "output_type": "stream",
     "text": [
      "/home/nabil/Dev/treehouse/RiboVsPolyA/results/SRP/random_forest\n"
     ]
    }
   ],
   "source": [
    "#change working directory to current directory to make relative paths work\n",
    "os.chdir(os.getcwd())\n",
    "#change path to random forest results\n",
    "# os.chdir(\"./SRP/random_forest\")\n",
    "print(os.getcwd())"
   ]
  },
  {
   "cell_type": "code",
   "execution_count": 11,
   "id": "f5180dd7-b8e0-4c54-b4ad-71ad7b735f1b",
   "metadata": {},
   "outputs": [
    {
     "name": "stdout",
     "output_type": "stream",
     "text": [
      "             SRR                SRP  True Labels  Pred Labels\n",
      "0   SRP026013_TH          SRR900276            0          0.0\n",
      "1   SRP026013_TH          SRR900277            0          0.0\n",
      "2   SRP026013_TH          SRR900278            0          0.0\n",
      "3   SRP026013_TH          SRR900279            0          0.0\n",
      "4   SRP026013_TH          SRR900280            0          0.0\n",
      "..           ...                ...          ...          ...\n",
      "25     SRP183700  SRR8530642_output            1          1.0\n",
      "26     SRP183700  SRR8530640_output            1          1.0\n",
      "27     SRP183700  SRR8530639_output            1          1.0\n",
      "28     SRP183700  SRR8530638_output            1          1.0\n",
      "29     SRP183700  SRR8530637_output            1          1.0\n",
      "\n",
      "[454 rows x 4 columns]\n"
     ]
    }
   ],
   "source": [
    "rf_SRP = pd.DataFrame()\n",
    "true_val_dict = dict(SRP026013=0, SRP055411=1, SRP058841=1, SRP064410=0, SRP109549=0, SRP130971=1, SRP132968=0, SRP183700=1)\n",
    "# print(true_val_dict)\n",
    "\n",
    "for file in os.listdir():\n",
    "    if file[0] != '.':\n",
    "#         print(file)\n",
    "        srp_tpm_df = pd.read_csv(file, sep='\\t')\n",
    "        srp = srp_tpm_df.iloc[:, 0]\n",
    "        srr = re.match(r\"(\\w+?)_\\w+_\\w+_\\w+_\\d.([TH]+)?\", file)\n",
    "        if srr.group(2) != None:\n",
    "#             print(srr.group(1), srr.group(2))\n",
    "            srrs = [f\"{srr.group(1)}_{srr.group(2)}\" for i in range(len(srp))]\n",
    "        else:\n",
    "#             print(srr.group(1))\n",
    "            srrs = [f\"{srr.group(1)}\" for i in range(len(srp))]\n",
    "#         print(srrs)\n",
    "        if srr.group(1) == \"SRP127360\":\n",
    "#             pass\n",
    "            true_labels = [0, 0, 0, 0, 1, 1, 1, 1, 0, 0, 0, 0, 1, 1, 1, 1]\n",
    "        else:\n",
    "            true_labels = np.array([true_val_dict[srr.group(1)]]*srp_tpm_df.shape[0])\n",
    "        pred_labels = srp_tpm_df.Ribo.values\n",
    "        outputDf = pd.DataFrame(zip(srrs, srp, true_labels, pred_labels))\n",
    "        outputDf.columns = [\"SRR\", \"SRP\", \"True Labels\", \"Pred Labels\"]\n",
    "        rf_SRP = rf_SRP.append(outputDf)\n",
    "    \n",
    "print(rf_SRP)"
   ]
  },
  {
   "cell_type": "code",
   "execution_count": 46,
   "id": "dfa16bdb-feb8-467a-bb07-5e90538202e4",
   "metadata": {},
   "outputs": [
    {
     "data": {
      "text/html": [
       "<div>\n",
       "<style scoped>\n",
       "    .dataframe tbody tr th:only-of-type {\n",
       "        vertical-align: middle;\n",
       "    }\n",
       "\n",
       "    .dataframe tbody tr th {\n",
       "        vertical-align: top;\n",
       "    }\n",
       "\n",
       "    .dataframe thead th {\n",
       "        text-align: right;\n",
       "    }\n",
       "</style>\n",
       "<table border=\"1\" class=\"dataframe\">\n",
       "  <thead>\n",
       "    <tr style=\"text-align: right;\">\n",
       "      <th></th>\n",
       "      <th>SRR</th>\n",
       "      <th>SRP</th>\n",
       "      <th>True Labels</th>\n",
       "    </tr>\n",
       "  </thead>\n",
       "  <tbody>\n",
       "    <tr>\n",
       "      <th>0</th>\n",
       "      <td>SRP026013_TH</td>\n",
       "      <td>SRR900276</td>\n",
       "      <td>0</td>\n",
       "    </tr>\n",
       "    <tr>\n",
       "      <th>1</th>\n",
       "      <td>SRP026013_TH</td>\n",
       "      <td>SRR900277</td>\n",
       "      <td>0</td>\n",
       "    </tr>\n",
       "    <tr>\n",
       "      <th>2</th>\n",
       "      <td>SRP026013_TH</td>\n",
       "      <td>SRR900278</td>\n",
       "      <td>0</td>\n",
       "    </tr>\n",
       "    <tr>\n",
       "      <th>3</th>\n",
       "      <td>SRP026013_TH</td>\n",
       "      <td>SRR900279</td>\n",
       "      <td>0</td>\n",
       "    </tr>\n",
       "    <tr>\n",
       "      <th>4</th>\n",
       "      <td>SRP026013_TH</td>\n",
       "      <td>SRR900280</td>\n",
       "      <td>0</td>\n",
       "    </tr>\n",
       "    <tr>\n",
       "      <th>...</th>\n",
       "      <td>...</td>\n",
       "      <td>...</td>\n",
       "      <td>...</td>\n",
       "    </tr>\n",
       "    <tr>\n",
       "      <th>25</th>\n",
       "      <td>SRP183700</td>\n",
       "      <td>SRR8530642_output</td>\n",
       "      <td>1</td>\n",
       "    </tr>\n",
       "    <tr>\n",
       "      <th>26</th>\n",
       "      <td>SRP183700</td>\n",
       "      <td>SRR8530640_output</td>\n",
       "      <td>1</td>\n",
       "    </tr>\n",
       "    <tr>\n",
       "      <th>27</th>\n",
       "      <td>SRP183700</td>\n",
       "      <td>SRR8530639_output</td>\n",
       "      <td>1</td>\n",
       "    </tr>\n",
       "    <tr>\n",
       "      <th>28</th>\n",
       "      <td>SRP183700</td>\n",
       "      <td>SRR8530638_output</td>\n",
       "      <td>1</td>\n",
       "    </tr>\n",
       "    <tr>\n",
       "      <th>29</th>\n",
       "      <td>SRP183700</td>\n",
       "      <td>SRR8530637_output</td>\n",
       "      <td>1</td>\n",
       "    </tr>\n",
       "  </tbody>\n",
       "</table>\n",
       "<p>454 rows × 3 columns</p>\n",
       "</div>"
      ],
      "text/plain": [
       "             SRR                SRP  True Labels\n",
       "0   SRP026013_TH          SRR900276            0\n",
       "1   SRP026013_TH          SRR900277            0\n",
       "2   SRP026013_TH          SRR900278            0\n",
       "3   SRP026013_TH          SRR900279            0\n",
       "4   SRP026013_TH          SRR900280            0\n",
       "..           ...                ...          ...\n",
       "25     SRP183700  SRR8530642_output            1\n",
       "26     SRP183700  SRR8530640_output            1\n",
       "27     SRP183700  SRR8530639_output            1\n",
       "28     SRP183700  SRR8530638_output            1\n",
       "29     SRP183700  SRR8530637_output            1\n",
       "\n",
       "[454 rows x 3 columns]"
      ]
     },
     "execution_count": 46,
     "metadata": {},
     "output_type": "execute_result"
    }
   ],
   "source": [
    "rf_SRP_modif = rf_SRP[[\"SRR\", \"SRP\", \"True Labels\"]]\n",
    "rf_SRP_modif"
   ]
  },
  {
   "cell_type": "code",
   "execution_count": 47,
   "id": "178958e0-4aa8-404a-96ce-7f8d28ff56c7",
   "metadata": {},
   "outputs": [],
   "source": [
    "rf_SRP_modif.to_csv(\"../../srp_complete_true.csv\", index=False)"
   ]
  },
  {
   "cell_type": "code",
   "execution_count": 13,
   "id": "115dcc18-ab08-45be-901c-3fe704764e3d",
   "metadata": {},
   "outputs": [],
   "source": [
    "rf_SRP.to_csv(\"../../rf_complete_dataframe.csv\", index=False)"
   ]
  },
  {
   "cell_type": "markdown",
   "id": "9b3cc713-c3c9-4b69-a493-aa7231e04eaa",
   "metadata": {},
   "source": [
    "# Logistic Classifier Complete Dataframe Creation"
   ]
  },
  {
   "cell_type": "code",
   "execution_count": 20,
   "id": "645a3c33-48b1-4315-86e5-abe159488837",
   "metadata": {},
   "outputs": [
    {
     "name": "stdout",
     "output_type": "stream",
     "text": [
      "/home/nabil/Dev/treehouse/RiboVsPolyA/results/SRP/logistic_classifier\n"
     ]
    }
   ],
   "source": [
    "#change working directory to current directory to make relative paths work\n",
    "os.chdir(os.getcwd())\n",
    "#change path to logistic classifier results\n",
    "os.chdir(\"../../SRP/logistic_classifier\")\n",
    "print(os.getcwd())"
   ]
  },
  {
   "cell_type": "code",
   "execution_count": 38,
   "id": "f2b457a1-1cd5-460a-8401-3740aec2a6a9",
   "metadata": {},
   "outputs": [
    {
     "name": "stdout",
     "output_type": "stream",
     "text": [
      "          SRR                SRP  True Labels  Pred Labels\n",
      "0   SRP130971  SRR6495386_output            1          1.0\n",
      "1   SRP130971  SRR6495385_output            1          1.0\n",
      "2   SRP130971  SRR6495384_output            1          1.0\n",
      "3   SRP130971  SRR6495382_output            1          1.0\n",
      "4   SRP130971  SRR6495381_output            1          1.0\n",
      "..        ...                ...          ...          ...\n",
      "5   SRP064410  SRR2549082_output            0          0.0\n",
      "6   SRP064410  SRR2549081_output            0          0.0\n",
      "7   SRP064410  SRR2549080_output            0          0.0\n",
      "8   SRP064410  SRR2549079_output            0          0.0\n",
      "9   SRP064410  SRR2549078_output            0          0.0\n",
      "\n",
      "[464 rows x 4 columns]\n"
     ]
    }
   ],
   "source": [
    "lc_SRP = pd.DataFrame()\n",
    "true_val_dict = dict(SRP130971=1, SRP109549=0, SRP064410=0, SRP058841=1, SRP055411=1, SRP026013=0, SRP132968=0, SRP127360=0, SRP183700=0)\n",
    "# print(true_val_dict)\n",
    "\n",
    "for file in os.listdir():\n",
    "    if file[0] != '.':\n",
    "#         print(file)\n",
    "        srp_tpm_df = pd.read_csv(file, sep='\\t')\n",
    "        srp = srp_tpm_df.iloc[:, 0]\n",
    "        srr = re.match(r\"(\\w+?)_\\w+_\\w+_\\w+_\\d.([TH]+)?\", file)\n",
    "#         print(srr.group(1))\n",
    "        if srr.group(2) != None:\n",
    "#             print(srr.group(1), srr.group(2))\n",
    "            srrs = [f\"{srr.group(1)}_{srr.group(2)}\" for i in range(len(srp))]\n",
    "        else:\n",
    "#             print(srr.group(1))\n",
    "            srrs = [f\"{srr.group(1)}\" for i in range(len(srp))]\n",
    "#         print(srrs)\n",
    "        if srr.group(1) == \"SRP127360\":\n",
    "#             pass\n",
    "            true_labels = [0, 0, 0, 0, 1, 1, 1, 1, 0, 0, 0, 0, 1, 1, 1, 1]\n",
    "        else:\n",
    "            true_labels = np.array([true_val_dict[srr.group(1)]]*srp_tpm_df.shape[0])\n",
    "        pred_labels = srp_tpm_df.Ribo.values\n",
    "        outputDf = pd.DataFrame(zip(srrs, srp, true_labels, pred_labels))\n",
    "        outputDf.columns = [\"SRR\", \"SRP\", \"True Labels\", \"Pred Labels\"]\n",
    "        lc_SRP = lc_SRP.append(outputDf)\n",
    "    \n",
    "print(lc_SRP)"
   ]
  },
  {
   "cell_type": "code",
   "execution_count": 39,
   "id": "7df27e73-094a-4fed-b089-5392a8e3400d",
   "metadata": {},
   "outputs": [
    {
     "data": {
      "text/html": [
       "<div>\n",
       "<style scoped>\n",
       "    .dataframe tbody tr th:only-of-type {\n",
       "        vertical-align: middle;\n",
       "    }\n",
       "\n",
       "    .dataframe tbody tr th {\n",
       "        vertical-align: top;\n",
       "    }\n",
       "\n",
       "    .dataframe thead th {\n",
       "        text-align: right;\n",
       "    }\n",
       "</style>\n",
       "<table border=\"1\" class=\"dataframe\">\n",
       "  <thead>\n",
       "    <tr style=\"text-align: right;\">\n",
       "      <th></th>\n",
       "      <th>SRR</th>\n",
       "      <th>SRP</th>\n",
       "      <th>True Labels</th>\n",
       "      <th>Pred Labels</th>\n",
       "    </tr>\n",
       "  </thead>\n",
       "  <tbody>\n",
       "    <tr>\n",
       "      <th>0</th>\n",
       "      <td>SRP130971</td>\n",
       "      <td>SRR6495386_output</td>\n",
       "      <td>1</td>\n",
       "      <td>1.0</td>\n",
       "    </tr>\n",
       "    <tr>\n",
       "      <th>1</th>\n",
       "      <td>SRP130971</td>\n",
       "      <td>SRR6495385_output</td>\n",
       "      <td>1</td>\n",
       "      <td>1.0</td>\n",
       "    </tr>\n",
       "    <tr>\n",
       "      <th>2</th>\n",
       "      <td>SRP130971</td>\n",
       "      <td>SRR6495384_output</td>\n",
       "      <td>1</td>\n",
       "      <td>1.0</td>\n",
       "    </tr>\n",
       "    <tr>\n",
       "      <th>3</th>\n",
       "      <td>SRP130971</td>\n",
       "      <td>SRR6495382_output</td>\n",
       "      <td>1</td>\n",
       "      <td>1.0</td>\n",
       "    </tr>\n",
       "    <tr>\n",
       "      <th>4</th>\n",
       "      <td>SRP130971</td>\n",
       "      <td>SRR6495381_output</td>\n",
       "      <td>1</td>\n",
       "      <td>1.0</td>\n",
       "    </tr>\n",
       "    <tr>\n",
       "      <th>...</th>\n",
       "      <td>...</td>\n",
       "      <td>...</td>\n",
       "      <td>...</td>\n",
       "      <td>...</td>\n",
       "    </tr>\n",
       "    <tr>\n",
       "      <th>5</th>\n",
       "      <td>SRP064410</td>\n",
       "      <td>SRR2549082_output</td>\n",
       "      <td>0</td>\n",
       "      <td>0.0</td>\n",
       "    </tr>\n",
       "    <tr>\n",
       "      <th>6</th>\n",
       "      <td>SRP064410</td>\n",
       "      <td>SRR2549081_output</td>\n",
       "      <td>0</td>\n",
       "      <td>0.0</td>\n",
       "    </tr>\n",
       "    <tr>\n",
       "      <th>7</th>\n",
       "      <td>SRP064410</td>\n",
       "      <td>SRR2549080_output</td>\n",
       "      <td>0</td>\n",
       "      <td>0.0</td>\n",
       "    </tr>\n",
       "    <tr>\n",
       "      <th>8</th>\n",
       "      <td>SRP064410</td>\n",
       "      <td>SRR2549079_output</td>\n",
       "      <td>0</td>\n",
       "      <td>0.0</td>\n",
       "    </tr>\n",
       "    <tr>\n",
       "      <th>9</th>\n",
       "      <td>SRP064410</td>\n",
       "      <td>SRR2549078_output</td>\n",
       "      <td>0</td>\n",
       "      <td>0.0</td>\n",
       "    </tr>\n",
       "  </tbody>\n",
       "</table>\n",
       "<p>464 rows × 4 columns</p>\n",
       "</div>"
      ],
      "text/plain": [
       "          SRR                SRP  True Labels  Pred Labels\n",
       "0   SRP130971  SRR6495386_output            1          1.0\n",
       "1   SRP130971  SRR6495385_output            1          1.0\n",
       "2   SRP130971  SRR6495384_output            1          1.0\n",
       "3   SRP130971  SRR6495382_output            1          1.0\n",
       "4   SRP130971  SRR6495381_output            1          1.0\n",
       "..        ...                ...          ...          ...\n",
       "5   SRP064410  SRR2549082_output            0          0.0\n",
       "6   SRP064410  SRR2549081_output            0          0.0\n",
       "7   SRP064410  SRR2549080_output            0          0.0\n",
       "8   SRP064410  SRR2549079_output            0          0.0\n",
       "9   SRP064410  SRR2549078_output            0          0.0\n",
       "\n",
       "[464 rows x 4 columns]"
      ]
     },
     "execution_count": 39,
     "metadata": {},
     "output_type": "execute_result"
    }
   ],
   "source": [
    "lc_SRP"
   ]
  },
  {
   "cell_type": "code",
   "execution_count": 40,
   "id": "c15ce418-5d26-45b8-aead-b8d54a05bc27",
   "metadata": {},
   "outputs": [],
   "source": [
    "lc_SRP.to_csv(\"../../lc_complete_dataframe.csv\", index=False)"
   ]
  },
  {
   "cell_type": "code",
   "execution_count": null,
   "id": "1c8c4eff-e481-4649-ac7a-6e865778cb00",
   "metadata": {},
   "outputs": [],
   "source": []
  }
 ],
 "metadata": {
  "kernelspec": {
   "display_name": "Python 3",
   "language": "python",
   "name": "python3"
  },
  "language_info": {
   "codemirror_mode": {
    "name": "ipython",
    "version": 3
   },
   "file_extension": ".py",
   "mimetype": "text/x-python",
   "name": "python",
   "nbconvert_exporter": "python",
   "pygments_lexer": "ipython3",
   "version": "3.6.13"
  }
 },
 "nbformat": 4,
 "nbformat_minor": 5
}
