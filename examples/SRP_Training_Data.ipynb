{
 "cells": [
  {
   "cell_type": "markdown",
   "id": "liquid-fruit",
   "metadata": {},
   "source": [
    "# Generate SRP Training Data\n",
    "Goal is create a machine learning model based on publicly available SRP data.\n",
    "This model will then be applied to Treehouse public compendia to determine how well it performs."
   ]
  },
  {
   "cell_type": "code",
   "execution_count": 2,
   "id": "opening-bacteria",
   "metadata": {},
   "outputs": [],
   "source": [
    "import pandas as pd\n",
    "import numpy as np\n",
    "\n",
    "import os\n",
    "\n",
    "os.chdir(os.getcwd())"
   ]
  },
  {
   "cell_type": "code",
   "execution_count": 9,
   "id": "threaded-advisory",
   "metadata": {},
   "outputs": [],
   "source": [
    "## Load in Treehouse SRP data\n",
    "TREEHOUSE_DATADIR = \"../data/treehouse_SRP_data/\"\n",
    "\n",
    "# polyA samples\n",
    "SRP026013_expression_data = pd.read_csv(TREEHOUSE_DATADIR + 'SRP026013_log2TPM_plus1_HUGO.tsv', sep='\\t', index_col=0)\n",
    "SRP064410_expression_data = pd.read_csv(TREEHOUSE_DATADIR + 'SRP064410_log2TPM_plus1_HUGO.tsv', sep='\\t', index_col=0)\n",
    "SRP132968_expression_data = pd.read_csv(TREEHOUSE_DATADIR + 'SRP132968_log2TPM_plus1_HUGO.tsv', sep='\\t', index_col=0)\n",
    "\n",
    "# riboD samples\n",
    "SRP055411_expression_data = pd.read_csv(TREEHOUSE_DATADIR + 'SRP055411_log2TPM_plus1_HUGO.tsv', sep='\\t', index_col=0)\n",
    "SRP058841_expression_data = pd.read_csv(TREEHOUSE_DATADIR + 'SRP058841_log2TPM_plus1_HUGO.tsv', sep='\\t', index_col=0)\n",
    "SRP109549_expression_data = pd.read_csv(TREEHOUSE_DATADIR + 'SRP109549_log2TPM_plus1_HUGO.tsv', sep='\\t', index_col=0)\n",
    "SRP130971_expression_data = pd.read_csv(TREEHOUSE_DATADIR + 'SRP130971_log2TPM_plus1_HUGO.tsv', sep='\\t', index_col=0)\n",
    "SRP183700_expression_data = pd.read_csv(TREEHOUSE_DATADIR + 'SRP183700_log2TPM_plus1_HUGO.tsv', sep='\\t', index_col=0)\n"
   ]
  },
  {
   "cell_type": "code",
   "execution_count": 13,
   "id": "wanted-england",
   "metadata": {},
   "outputs": [],
   "source": [
    "# Merge dataframes\n",
    "polyA_data = [SRP026013_expression_data, SRP064410_expression_data, SRP132968_expression_data]\n",
    "riboD_data = [SRP055411_expression_data, SRP058841_expression_data, SRP109549_expression_data, SRP130971_expression_data, SRP183700_expression_data]\n",
    "\n",
    "combined_polyA_expression_data = pd.concat(polyA_data)\n",
    "combined_riboD_expression_data = pd.concat(riboD_data)\n",
    "\n",
    "print(\"Shape of polyA SRP expression data \" + ','.join(str(value) for value in combined_polyA_expression_data.shape))\n",
    "print(\"Shape of riboD SRP expression data \" + ','.join(str(value) for value in combined_riboD_expression_data.shape))"
   ]
  },
  {
   "cell_type": "code",
   "execution_count": 34,
   "id": "advised-damages",
   "metadata": {},
   "outputs": [
    {
     "data": {
      "text/plain": [
       "(220, 5000)"
      ]
     },
     "execution_count": 34,
     "metadata": {},
     "output_type": "execute_result"
    }
   ],
   "source": [
    "# Subset to top 5000 highest variance genes\n",
    "merged_SRP_data = pd.concat([combined_polyA_expression_data, combined_riboD_expression_data], axis=0)\n",
    "merged_SRP_data = merged_SRP_data.T.loc[merged_SRP_data.var().sort_values().index[-5000:]].T\n",
    "\n",
    "merged_SRP_data.shape"
   ]
  },
  {
   "cell_type": "code",
   "execution_count": 36,
   "id": "amateur-cowboy",
   "metadata": {},
   "outputs": [],
   "source": [
    "SRP_classifier_genes = merged_SRP_data.columns\n",
    "np.savetxt(TREEHOUSE_DATADIR+'SRPClassifierGenes.txt',SRP_classifier_genes, fmt='%s')"
   ]
  },
  {
   "cell_type": "code",
   "execution_count": 37,
   "id": "further-salvation",
   "metadata": {},
   "outputs": [],
   "source": [
    "# Get labels\n",
    "polyA_labels = combined_polyA_expression_data.shape[0]*[0]\n",
    "riboD_labels = combined_riboD_expression_data.shape[0]*[1]\n",
    "all_labels = polyA_labels + riboD_labels\n",
    "\n",
    "merged_SRP_labels = pd.DataFrame(all_labels, index = merged_SRP_data.index, columns = ['Ribo'])"
   ]
  },
  {
   "cell_type": "code",
   "execution_count": 38,
   "id": "wired-rainbow",
   "metadata": {},
   "outputs": [],
   "source": [
    "# Output data\n",
    "\n",
    "# Write datasets\n",
    "merged_SRP_data.to_csv(TREEHOUSE_DATADIR + 'merged_SRP_data.tsv', sep='\\t')\n",
    "# Write labels\n",
    "merged_SRP_labels.to_csv(TREEHOUSE_DATADIR + 'merged_SRP_labels.tsv', sep='\\t')"
   ]
  },
  {
   "cell_type": "code",
   "execution_count": null,
   "id": "valuable-questionnaire",
   "metadata": {},
   "outputs": [],
   "source": []
  }
 ],
 "metadata": {
  "kernelspec": {
   "display_name": "Python 3",
   "language": "python",
   "name": "python3"
  },
  "language_info": {
   "codemirror_mode": {
    "name": "ipython",
    "version": 3
   },
   "file_extension": ".py",
   "mimetype": "text/x-python",
   "name": "python",
   "nbconvert_exporter": "python",
   "pygments_lexer": "ipython3",
   "version": "3.5.2"
  }
 },
 "nbformat": 4,
 "nbformat_minor": 5
}
