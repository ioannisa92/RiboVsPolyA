{
 "cells": [
  {
   "cell_type": "code",
   "execution_count": 1,
   "metadata": {},
   "outputs": [],
   "source": [
    "import argparse\n",
    "import pandas as pd\n",
    "import numpy as np\n",
    "from sklearn.model_selection import StratifiedKFold\n",
    "from sklearn.metrics import f1_score, precision_recall_curve, average_precision_score, auc\n",
    "from sklearn.ensemble import RandomForestClassifier\n",
    "import pickle\n",
    "import matplotlib.pyplot as plt\n",
    "import os\n",
    "os.chdir(os.getcwd())"
   ]
  },
  {
   "cell_type": "code",
   "execution_count": 2,
   "metadata": {},
   "outputs": [],
   "source": [
    "def cross_validate(x, y,folds=10, model=None):\n",
    "\n",
    "    kfold = StratifiedKFold(n_splits=folds, shuffle=True, random_state=42)\n",
    "\n",
    "    cv_results={}\n",
    "    cv_results['estimators']=[]\n",
    "    cv_results['test_acc']=[]\n",
    "    cv_results['precision']=[]\n",
    "    cv_results['recall']=[]\n",
    "    cv_results['average_precision']=[]\n",
    "    cv_results['auc'] = []\n",
    "    print('cross validating...')\n",
    "    \n",
    "    for train_idx, test_idx in kfold.split(x, y):\n",
    "\n",
    "        x_train = x[train_idx]\n",
    "        y_train = y[train_idx]\n",
    "        x_test = x[test_idx]\n",
    "        y_test = y[test_idx]\n",
    "\n",
    "\n",
    "        model.fit(x_train, y_train.flatten())\n",
    "        y_proba = model.predict_proba(x_test)[:,1]\n",
    "        acc = model.score(x_test, y_test)\n",
    "        precision, recall, _ = precision_recall_curve(y_test, y_proba)\n",
    "        mean_precision = average_precision_score(y_test, y_proba)\n",
    "        \n",
    "        cv_auc = auc(recall, precision)\n",
    "        \n",
    "        cv_results['estimators'] += [model]\n",
    "        cv_results['test_acc'] += [acc]\n",
    "        cv_results['precision'] += [precision]\n",
    "        cv_results['recall'] += [recall]\n",
    "        cv_results['average_precision'] += [mean_precision]\n",
    "        cv_results['auc'] += [cv_auc]\n",
    "\n",
    "    \n",
    "    return cv_results\n",
    "\n",
    "def get_best_model(cv_results):\n",
    "    '''\n",
    "    Function takes in results from function cross_validate and finds the nest estimator\n",
    "    If multiple estimators have achieved the same precision, then a random one is selected\n",
    "    '''\n",
    "    best_score=None\n",
    "    best_estimator=None\n",
    "    for i,e in enumerate(cv_results['estimators']):\n",
    "        score = cv_results['precision']\n",
    "        \n",
    "        if best_score is None or score>best_score:\n",
    "            best_score = score\n",
    "            best_estimator = e\n",
    "    return best_score, best_estimator\n",
    "    \n",
    "    "
   ]
  },
  {
   "cell_type": "markdown",
   "metadata": {},
   "source": [
    "## Cross validating with balanced data\n",
    "   * after get_best_model is run, the best unbalanced model will be saved"
   ]
  },
  {
   "cell_type": "code",
   "execution_count": 3,
   "metadata": {},
   "outputs": [
    {
     "name": "stdout",
     "output_type": "stream",
     "text": [
      "testing max_depth 1\n",
      "cross validating...\n",
      "10-Fold CV average precision: 0.955 for depth 1\n",
      "saving best\n",
      "testing max_depth 2\n",
      "cross validating...\n",
      "10-Fold CV average precision: 0.996 for depth 2\n",
      "saving best\n",
      "testing max_depth 3\n",
      "cross validating...\n",
      "10-Fold CV average precision: 0.996 for depth 3\n",
      "saving best\n",
      "testing max_depth 4\n",
      "cross validating...\n",
      "10-Fold CV average precision: 0.994 for depth 4\n",
      "saving best\n",
      "testing max_depth 5\n",
      "cross validating...\n",
      "10-Fold CV average precision: 0.994 for depth 5\n",
      "saving best\n",
      "testing max_depth 6\n",
      "cross validating...\n",
      "10-Fold CV average precision: 0.995 for depth 6\n",
      "saving best\n",
      "testing max_depth 7\n",
      "cross validating...\n",
      "10-Fold CV average precision: 0.996 for depth 7\n",
      "saving best\n",
      "testing max_depth 8\n",
      "cross validating...\n",
      "10-Fold CV average precision: 0.992 for depth 8\n",
      "saving best\n"
     ]
    }
   ],
   "source": [
    "\n",
    "    \n",
    "data = \"../data/MergedData_Balanced.tsv\"\n",
    "labels = \"../data/MergedLabels_Balanced.tsv\"\n",
    "save_best = True\n",
    "\n",
    "\n",
    "#classifier_genes = np.loadtxt('../data_test/ClassifierGenes_v2.txt', dtype='str')\n",
    "\n",
    "if '.tsv' in data:\n",
    "    X = pd.read_csv(data, sep='\\t', index_col=0)\n",
    "    Y = pd.read_csv(labels, sep='\\t', index_col=0)\n",
    "else:\n",
    "    raise ValueError('File does not appear to be tab delimited due to erronious extension. Make sure the file is tab delimited')\n",
    "\n",
    "#X = X.T.loc[classifier_genes].T #making sure genes match dimensionality of trained classifier\n",
    "#X = X.fillna(0)\n",
    "\n",
    "cv_model = []\n",
    "cv_results = []\n",
    "\n",
    "for depth in np.arange(1,9):\n",
    "    print('testing max_depth %d'%depth)\n",
    "    balanced_model = RandomForestClassifier(bootstrap=True, ccp_alpha=0.0, class_weight=None,\n",
    "                           criterion='gini', max_depth=depth, max_features='auto',\n",
    "                           max_leaf_nodes=None, max_samples=None,\n",
    "                           min_impurity_decrease=0.0, min_impurity_split=None,\n",
    "                           min_samples_leaf=1, min_samples_split=2,\n",
    "                           min_weight_fraction_leaf=0.0, n_estimators=100,\n",
    "                           n_jobs=-1, oob_score=False, random_state=None,\n",
    "                           verbose=0, warm_start=False)\n",
    "\n",
    "    balanced_cv_results = cross_validate(X.values, Y.values, model=balanced_model)\n",
    "    cv_results += [balanced_cv_results]\n",
    "    \n",
    "    cv_mean_precision = np.mean(balanced_cv_results['average_precision'])\n",
    "    print('10-Fold CV average precision: %.3f for depth %d'%(cv_mean_precision,depth))\n",
    "\n",
    "    if save_best:\n",
    "        print('saving best')\n",
    "        best_score, best_estimator = get_best_model(balanced_cv_results)\n",
    "        model_fn = \"../models/RiboVsPoly_balanced_max_depth_%d.sav\"% depth\n",
    "        pickle.dump(best_estimator, open(model_fn, 'wb'))\n",
    "\n",
    "#np.save('./results/RF_10-foldCV.npy',cv_results)\n",
    "\n"
   ]
  },
  {
   "cell_type": "code",
   "execution_count": 4,
   "metadata": {},
   "outputs": [
    {
     "data": {
      "text/plain": [
       "(452, 5000)"
      ]
     },
     "execution_count": 4,
     "metadata": {},
     "output_type": "execute_result"
    }
   ],
   "source": [
    "X.shape"
   ]
  },
  {
   "cell_type": "code",
   "execution_count": 5,
   "metadata": {},
   "outputs": [],
   "source": [
    "precision_for_plot = []\n",
    "for res in cv_results:\n",
    "    precision_for_plot += [res['average_precision']]"
   ]
  },
  {
   "cell_type": "code",
   "execution_count": 6,
   "metadata": {},
   "outputs": [
    {
     "data": {
      "image/png": "[encoded data removed]",
      "text/plain": [
       "<Figure size 432x288 with 1 Axes>"
      ]
     },
     "metadata": {
      "needs_background": "light"
     },
     "output_type": "display_data"
    }
   ],
   "source": [
    "plt.boxplot(precision_for_plot)\n",
    "plt.ylabel(\"Average Precision\", fontsize=15)\n",
    "plt.xlabel(\"Max depth parameter\", fontsize=15)\n",
    "plt.title('10f-CV Performance on Balanced TH Train data', fontsize=15)\n",
    "plt.show()\n",
    "plt.close()"
   ]
  },
  {
   "cell_type": "code",
   "execution_count": 7,
   "metadata": {},
   "outputs": [],
   "source": [
    "balanced_acc = balanced_cv_results['test_acc']"
   ]
  },
  {
   "cell_type": "code",
   "execution_count": 8,
   "metadata": {},
   "outputs": [
    {
     "data": {
      "image/png": "[encoded data removed]",
      "text/plain": [
       "<Figure size 720x720 with 1 Axes>"
      ]
     },
     "metadata": {
      "needs_background": "light"
     },
     "output_type": "display_data"
    }
   ],
   "source": [
    "import matplotlib.pyplot as plt\n",
    "plt.figure(figsize=(10,10))\n",
    "\n",
    "plt.boxplot([balanced_acc])\n",
    "plt.ylabel(\"Accuracy\", fontsize=17)\n",
    "plt.yticks(fontsize=16)\n",
    "plt.xticks([1], [\"Balanced\"], fontsize=16)\n",
    "plt.title(\"10-fold CV Results\", fontsize=20)\n",
    "plt.show()\n",
    "plt.close()"
   ]
  },
  {
   "cell_type": "markdown",
   "metadata": {},
   "source": [
    "# "
   ]
  },
  {
   "cell_type": "code",
   "execution_count": null,
   "metadata": {},
   "outputs": [],
   "source": []
  },
  {
   "cell_type": "code",
   "execution_count": null,
   "metadata": {},
   "outputs": [],
   "source": []
  }
 ],
 "metadata": {
  "kernelspec": {
   "display_name": "Python 3",
   "language": "python",
   "name": "python3"
  },
  "language_info": {
   "codemirror_mode": {
    "name": "ipython",
    "version": 3
   },
   "file_extension": ".py",
   "mimetype": "text/x-python",
   "name": "python",
   "nbconvert_exporter": "python",
   "pygments_lexer": "ipython3",
   "version": "3.7.3"
  }
 },
 "nbformat": 4,
 "nbformat_minor": 2
}
