{
 "cells": [
  {
   "cell_type": "code",
   "execution_count": 1,
   "metadata": {},
   "outputs": [],
   "source": [
    "import pandas as pd\n",
    "import numpy as np\n",
    "import matplotlib.pyplot as plt\n",
    "import os\n",
    "os.chdir(os.getcwd())"
   ]
  },
  {
   "cell_type": "code",
   "execution_count": 2,
   "metadata": {},
   "outputs": [
    {
     "data": {
      "text/plain": [
       "'/mnt/github/RiboVsPolyA/examples'"
      ]
     },
     "execution_count": 2,
     "metadata": {},
     "output_type": "execute_result"
    }
   ],
   "source": [
    "os.getcwd()"
   ]
  },
  {
   "cell_type": "code",
   "execution_count": 3,
   "metadata": {},
   "outputs": [
    {
     "name": "stderr",
     "output_type": "stream",
     "text": [
      "/home/ubuntu/anaconda3/lib/python3.7/site-packages/statsmodels/tools/_testing.py:19: FutureWarning: pandas.util.testing is deprecated. Use the functions in the public API at pandas.testing instead.\n",
      "  import pandas.util.testing as tm\n"
     ]
    }
   ],
   "source": [
    "#Author: Ioannis Anastopoulos\n",
    "from sklearn.metrics import r2_score,confusion_matrix, accuracy_score,roc_curve,auc,precision_recall_fscore_support,f1_score, average_precision_score\n",
    "from scipy.stats import pearsonr\n",
    "import numpy as np\n",
    "import seaborn as sns\n",
    "import matplotlib.pyplot as plt\n",
    "import pandas as pd\n",
    "\n",
    "def rmse(y_true, y_pred):\n",
    "    return np.sqrt(np.mean(np.square(y_pred - y_true)))\n",
    "\n",
    "def F_score(Y_true,predict_classes ,classes=None, plot=False,average=None):\n",
    "    if classes is None:\n",
    "        classes=range(len(set(Y_true)))\n",
    "    eval_metrics_matrix=precision_recall_fscore_support(Y_true,predict_classes,labels=classes,average=average)\n",
    "    f_score_df=pd.DataFrame(eval_metrics_matrix[2], columns=['F_score'],index=classes)\n",
    "    f_score_df=f_score_df.drop_duplicates()\n",
    "\n",
    "    if plot:\n",
    "        plt.figure(figsize=(10,10))\n",
    "        ax=f_score_df.plot(kind='bar', figsize=(7,10))\n",
    "        for p in ax.patches:\n",
    "            ax.annotate(str(round(p.get_height(),2)), (p.get_x() * 1.005, p.get_height() * 1.005))\n",
    "        plt.title('F1_score')\n",
    "        plt.show()\n",
    "        plt.close()\n",
    "    return f_score_df\n",
    "\n",
    "def confusion(Y_true,predict_classes,classes=None,plot=False, title='Confusion Matrix',fontsize=16,cmap='tab20',normalize=False):\n",
    "\n",
    "    if classes is None:\n",
    "        classes=range(len(set(predict_classes)))\n",
    "\n",
    "    conf_matrix=confusion_matrix(Y_true, predict_classes, labels=classes)\n",
    "\n",
    "    if normalize:\n",
    "        total=conf_matrix.sum(axis=0) #summing actual predictions\n",
    "        conf_matrix= conf_matrix/total\n",
    "\n",
    "    df_cm = pd.DataFrame(conf_matrix, index=classes,\n",
    "                  columns=classes)\n",
    "    #sns.set(font_scale=5)#for label size\n",
    "    if plot:\n",
    "        plt.figure(figsize=(10,10))\n",
    "        sns.heatmap(df_cm, annot=True,annot_kws={\"size\":fontsize*(1/2) },cmap=cmap)# font size\n",
    "        #fig=conf_hm.get_figure()\n",
    "        plt.yticks(fontsize=fontsize+4)\n",
    "        plt.xticks(fontsize=fontsize+4)\n",
    "        plt.title(title, fontsize=fontsize+10)\n",
    "        #fig.savefig(out,dpi=300)\n",
    "        plt.show()\n",
    "        plt.close()\n",
    "\n",
    "    return conf_matrix\n",
    "\n",
    "def to_categorical(y, num_classes):\n",
    "    \"\"\" 1-hot encodes a tensor \"\"\"\n",
    "    return np.eye(num_classes, dtype='uint8')[y]\n",
    "\n",
    "def ROC(y_true, y_pred,classes=None,title=None,plot=False):\n",
    "\n",
    "    plt.figure(figsize=(10,10))\n",
    "    lw=4\n",
    "\n",
    "    if isinstance(y_true, pd.DataFrame):\n",
    "        y_true=y_true.values\n",
    "    if isinstance(y_pred, pd.DataFrame):\n",
    "        y_pred=y_pred.values\n",
    "\n",
    "\n",
    "    if classes is None:\n",
    "        classes=set(list(y_true.flatten())) #removing dups, and i think itll only work for binary cases\n",
    "\n",
    "    if len(classes)>2:\n",
    "        #y_true = to_categorical(y_true, len(classes))\n",
    "        #y_pred = to_categorical(y_pred, len(classes))\n",
    "        \n",
    "        fpr = dict()\n",
    "        tpr = dict()\n",
    "        roc_auc = dict()\n",
    "\n",
    "        for i,cl in enumerate(classes):\n",
    "            fpr[cl], tpr[cl], _ = roc_curve(y_true[:,i], y_pred[:, i])\n",
    "            roc_auc[cl] = auc(fpr[cl], tpr[cl])\n",
    "        \n",
    "        if plot: \n",
    "            colors = plt.cm.get_cmap('tab20',len(classes)) #best line of code IN THE UNIVERSE\n",
    "\n",
    "            for i, color in zip(range(len(classes)), colors.colors):\n",
    "                cl = classes[i]\n",
    "                plt.plot(fpr[cl], tpr[cl], color=colors.colors[i], lw=lw,\n",
    "                     label='ROC curve of class {0} (area = {1:0.2f})'\n",
    "                     ''.format(cl, roc_auc[cl]))\n",
    "            plt.plot([0, 1], [0, 1], 'k--', lw=lw)\n",
    "            plt.xlim([-0.03, 1.05])\n",
    "            plt.ylim([-0.03, 1.05])\n",
    "            plt.xlabel('False Positive Rate', fontsize=10)\n",
    "            plt.ylabel('True Positive Rate',fontsize=10)\n",
    "            plt.title(title, fontsize=12)\n",
    "            plt.xticks(fontsize=10)\n",
    "            plt.yticks(fontsize=10)\n",
    "            plt.legend(loc=\"lower right\",prop={'size': 15})\n",
    "            #plt.savefig('/projects/sysbio/users/ianastop/cm_region_results/plots/%s_ROC.png'%self.out,dpi=300)\n",
    "            plt.show()\n",
    "            plt.close()\n",
    "\n",
    "        return (fpr, tpr, roc_auc)\n",
    "\n",
    "    else:\n",
    "        fpr, tpr, _ = roc_curve(y_true, y_pred)\n",
    "        roc_auc = auc(fpr, tpr)\n",
    "        if plot:\n",
    "            plt.plot(fpr, tpr, color='darkorange', lw=4, label='ROC curve (area = %0.2f)' % roc_auc)\n",
    "\n",
    "            plt.plot([0, 1], [0, 1], 'k--', lw=lw)\n",
    "            plt.xlim([-0.03, 1.05])\n",
    "            plt.ylim([-0.03, 1.05])\n",
    "            plt.xlabel('False Positive Rate', fontsize=10)\n",
    "            plt.ylabel('True Positive Rate',fontsize=10)\n",
    "            plt.title(title, fontsize=12)\n",
    "            plt.xticks(fontsize=10)\n",
    "            plt.yticks(fontsize=10)\n",
    "            plt.legend(loc=\"lower right\",prop={'size': 10})\n",
    "            #plt.savefig('/projects/sysbio/users/ianastop/cm_region_results/plots/%s_ROC.png'%self.out,dpi=300)\n",
    "            return( fpr, tpr, roc_auc)\n",
    "            plt.show()\n",
    "            plt.close()\n",
    "        print(fpr, tpr)\n",
    "        return fpr,tpr,roc_auc\n",
    "\n",
    "\n",
    "def regression_eval(y_true,y_pred, axis=None):\n",
    "    '''\n",
    "    Function computes pearson, r2 and rmse row wise or column wise\n",
    "    Returns a list for each metric for each row or column\n",
    "\n",
    "    axis =0/1 if the vector predicted has multiple rows and columns: for expression matrices\n",
    "    if the vectors has multiple samples predicted for 1 variable : for drug response vector of each drug individually\n",
    "    '''\n",
    "    #calculating metrics on a per sample basis\n",
    "    if axis ==0:\n",
    "        r_list = []\n",
    "        r2_list = []\n",
    "        rmse_list = []\n",
    "        for i, vec in enumerate(y_true):\n",
    "            r_list +=[pearsonr(vec, y_pred[i])[0]]\n",
    "            r2_list += [r2_score(vec, y_pred[i])]\n",
    "            rmse_list += [rmse(vec,y_pred[i])]\n",
    "        r = np.mean(r_list)\n",
    "        r2 = np.mean(r2_list)\n",
    "        rmse_score = np.mean(rmse_list)\n",
    "    elif axis == 1:\n",
    "        r_list = []\n",
    "        r2_list = []\n",
    "        rmse_list = []\n",
    "        for i, vec in enumerate(y_true.T):\n",
    "            r_list +=[pearsonr(vec, y_pred.T[i])[0]]\n",
    "            r2_list += [r2_score(vec, y_pred.T[i])]\n",
    "            rmse_list += [rmse(vec,y_pred.T[i])]\n",
    "        r = np.mean(r_list)\n",
    "        r2 = np.mean(r2_list)\n",
    "        rmse_score = np.mean(rmse_list)\n",
    "    elif axis is None:\n",
    "        r, _ = pearsonr(y_true.flatten(), y_pred.flatten())\n",
    "        r2 = r2_score(y_true.flatten(), y_pred.flatten())\n",
    "        rmse_score = rmse(y_true.flatten(), y_pred.flatten())\n",
    "    return r,r2,rmse_score\n",
    "\n",
    "def classification_eval(y_true,y_pred, y_proba,classes=None):\n",
    "    if len(y_proba.shape)>=2:\n",
    "        y_pred = np.argmax(y_proba, axis=1)\n",
    "    acc = accuracy_score(y_true,y_pred)\n",
    "    f1 = f1_score(y_true, y_pred, average='weighted')\n",
    "    roc_auc = ROC(y_true, y_proba,classes=classes)[-1]\n",
    "    precision = average_precision_score(y_true, y_proba, average='weighted')\n",
    "    \n",
    "    return acc, f1, roc_auc, precision\n",
    "        \n",
    "def node_classification_eval():\n",
    "    pass \n",
    "\n",
    "def corr_plot(y_true, y_pred, title='Fig Title', ylabel='Y label', xlabel='X label', out_fn='out.png', log_values=False):\n",
    "    fig, axes = plt.subplots(nrows=3, ncols=3,figsize=(10,10))\n",
    "    i=0\n",
    "    j=0\n",
    "    np.random.seed(42)\n",
    "    for idx,sample_idx in enumerate(np.random.choice(np.arange(y_true.shape[0]),9)):\n",
    "\n",
    "        ax_row =axes[i] #select row  to plot in\n",
    "        ax = ax_row[j]\n",
    "        if log_values:\n",
    "            observed = [np.log(x+1) for x in y_true[int(sample_idx/2)]]\n",
    "            predicted = [np.log(x+1) for x in y_pred[int(sample_idx/2)]]\n",
    "        else:\n",
    "            observed = y_true[int(sample_idx/2)]\n",
    "            predicted = y_pred[int(sample_idx/2)]\n",
    "            \n",
    "        ax.scatter(observed, predicted, s=1, alpha=0.6, marker='o')\n",
    "\n",
    "        ax.set_title(\"Random sample %d\"%(idx+1))\n",
    "\n",
    "        if j==2:\n",
    "            i+=1\n",
    "            j=0\n",
    "        else:\n",
    "            j+=1\n",
    "        r = pearsonr(y_true[int(sample_idx/2)], y_pred[int(sample_idx/2)])[0]\n",
    "        r2 = r2_score(y_true[int(sample_idx/2)], y_pred[int(sample_idx/2)])\n",
    "        ax.text(min(observed), 0.95*max(predicted), 'pearson coeff: %.3f'%r)\n",
    "        ax.text(min(observed), 0.8*max(predicted), r'$R^2$: %.3f'%r2)\n",
    "\n",
    "    #     handles, labels = ax.get_legend_handles_labels()\n",
    "    #     by_label = dict(zip(labels, handles))\n",
    "    #     ax.legend(by_label.values(), by_label.keys())\n",
    "        ax.set_ylabel(ylabel, fontsize=10)\n",
    "        ax.set_xlabel(xlabel, fontsize=10)\n",
    "\n",
    "    st = fig.suptitle(title, fontsize=15)\n",
    "    st.set_y(1.05)\n",
    "    fig.subplots_adjust(top=0.85)\n",
    "\n",
    "    plt.tight_layout()\n",
    "    plt.savefig(out_fn, dpi=300)\n",
    "    plt.show()\n",
    "    plt.close()\n"
   ]
  },
  {
   "cell_type": "code",
   "execution_count": 4,
   "metadata": {},
   "outputs": [],
   "source": [
    "srp_tpm_df = pd.read_csv(\"../results/SRP127360_TPM_log2_plus_1.balanced_maxdepth1_results.tsv\", index_col=0, sep='\\t')"
   ]
  },
  {
   "cell_type": "code",
   "execution_count": 5,
   "metadata": {},
   "outputs": [
    {
     "data": {
      "text/html": [
       "<div>\n",
       "<style scoped>\n",
       "    .dataframe tbody tr th:only-of-type {\n",
       "        vertical-align: middle;\n",
       "    }\n",
       "\n",
       "    .dataframe tbody tr th {\n",
       "        vertical-align: top;\n",
       "    }\n",
       "\n",
       "    .dataframe thead th {\n",
       "        text-align: right;\n",
       "    }\n",
       "</style>\n",
       "<table border=\"1\" class=\"dataframe\">\n",
       "  <thead>\n",
       "    <tr style=\"text-align: right;\">\n",
       "      <th></th>\n",
       "      <th>Ribo</th>\n",
       "      <th>Proba_0</th>\n",
       "      <th>Proba_1</th>\n",
       "    </tr>\n",
       "  </thead>\n",
       "  <tbody>\n",
       "    <tr>\n",
       "      <th>B_M_2</th>\n",
       "      <td>0.0</td>\n",
       "      <td>0.917177</td>\n",
       "      <td>0.082823</td>\n",
       "    </tr>\n",
       "    <tr>\n",
       "      <th>B_M_3</th>\n",
       "      <td>0.0</td>\n",
       "      <td>0.909384</td>\n",
       "      <td>0.090616</td>\n",
       "    </tr>\n",
       "    <tr>\n",
       "      <th>B_M_1</th>\n",
       "      <td>0.0</td>\n",
       "      <td>0.892943</td>\n",
       "      <td>0.107057</td>\n",
       "    </tr>\n",
       "    <tr>\n",
       "      <th>B_M_4</th>\n",
       "      <td>0.0</td>\n",
       "      <td>0.917177</td>\n",
       "      <td>0.082823</td>\n",
       "    </tr>\n",
       "    <tr>\n",
       "      <th>B_T_2</th>\n",
       "      <td>1.0</td>\n",
       "      <td>0.363504</td>\n",
       "      <td>0.636496</td>\n",
       "    </tr>\n",
       "    <tr>\n",
       "      <th>B_T_1</th>\n",
       "      <td>1.0</td>\n",
       "      <td>0.308447</td>\n",
       "      <td>0.691553</td>\n",
       "    </tr>\n",
       "    <tr>\n",
       "      <th>C_M_1</th>\n",
       "      <td>0.0</td>\n",
       "      <td>0.824904</td>\n",
       "      <td>0.175096</td>\n",
       "    </tr>\n",
       "    <tr>\n",
       "      <th>B_T_4</th>\n",
       "      <td>1.0</td>\n",
       "      <td>0.318240</td>\n",
       "      <td>0.681760</td>\n",
       "    </tr>\n",
       "    <tr>\n",
       "      <th>B_T_3</th>\n",
       "      <td>1.0</td>\n",
       "      <td>0.361659</td>\n",
       "      <td>0.638341</td>\n",
       "    </tr>\n",
       "    <tr>\n",
       "      <th>C_M_3</th>\n",
       "      <td>0.0</td>\n",
       "      <td>0.877366</td>\n",
       "      <td>0.122634</td>\n",
       "    </tr>\n",
       "    <tr>\n",
       "      <th>C_M_4</th>\n",
       "      <td>0.0</td>\n",
       "      <td>0.876302</td>\n",
       "      <td>0.123698</td>\n",
       "    </tr>\n",
       "    <tr>\n",
       "      <th>C_M_2</th>\n",
       "      <td>0.0</td>\n",
       "      <td>0.884714</td>\n",
       "      <td>0.115286</td>\n",
       "    </tr>\n",
       "    <tr>\n",
       "      <th>C_T_2</th>\n",
       "      <td>1.0</td>\n",
       "      <td>0.234622</td>\n",
       "      <td>0.765378</td>\n",
       "    </tr>\n",
       "    <tr>\n",
       "      <th>C_T_3</th>\n",
       "      <td>1.0</td>\n",
       "      <td>0.232836</td>\n",
       "      <td>0.767164</td>\n",
       "    </tr>\n",
       "    <tr>\n",
       "      <th>C_T_1</th>\n",
       "      <td>1.0</td>\n",
       "      <td>0.233808</td>\n",
       "      <td>0.766192</td>\n",
       "    </tr>\n",
       "    <tr>\n",
       "      <th>C_T_4</th>\n",
       "      <td>1.0</td>\n",
       "      <td>0.225105</td>\n",
       "      <td>0.774895</td>\n",
       "    </tr>\n",
       "  </tbody>\n",
       "</table>\n",
       "</div>"
      ],
      "text/plain": [
       "       Ribo   Proba_0   Proba_1\n",
       "B_M_2   0.0  0.917177  0.082823\n",
       "B_M_3   0.0  0.909384  0.090616\n",
       "B_M_1   0.0  0.892943  0.107057\n",
       "B_M_4   0.0  0.917177  0.082823\n",
       "B_T_2   1.0  0.363504  0.636496\n",
       "B_T_1   1.0  0.308447  0.691553\n",
       "C_M_1   0.0  0.824904  0.175096\n",
       "B_T_4   1.0  0.318240  0.681760\n",
       "B_T_3   1.0  0.361659  0.638341\n",
       "C_M_3   0.0  0.877366  0.122634\n",
       "C_M_4   0.0  0.876302  0.123698\n",
       "C_M_2   0.0  0.884714  0.115286\n",
       "C_T_2   1.0  0.234622  0.765378\n",
       "C_T_3   1.0  0.232836  0.767164\n",
       "C_T_1   1.0  0.233808  0.766192\n",
       "C_T_4   1.0  0.225105  0.774895"
      ]
     },
     "execution_count": 5,
     "metadata": {},
     "output_type": "execute_result"
    }
   ],
   "source": [
    "srp_tpm_df"
   ]
  },
  {
   "cell_type": "code",
   "execution_count": 6,
   "metadata": {},
   "outputs": [
    {
     "data": {
      "text/plain": [
       "(16, 3)"
      ]
     },
     "execution_count": 6,
     "metadata": {},
     "output_type": "execute_result"
    }
   ],
   "source": [
    "srp_tpm_df.shape"
   ]
  },
  {
   "cell_type": "code",
   "execution_count": 7,
   "metadata": {},
   "outputs": [],
   "source": [
    "true_labels = [0 if 'M' in x else 1 for x in srp_tpm_df.index]\n",
    "pred_labels = srp_tpm_df.Ribo.values\n",
    "pred_proba = srp_tpm_df.Proba_1.values"
   ]
  },
  {
   "cell_type": "code",
   "execution_count": 8,
   "metadata": {},
   "outputs": [
    {
     "data": {
      "text/plain": [
       "[0, 0, 0, 0, 1, 1, 0, 1, 1, 0, 0, 0, 1, 1, 1, 1]"
      ]
     },
     "execution_count": 8,
     "metadata": {},
     "output_type": "execute_result"
    }
   ],
   "source": [
    "true_labels"
   ]
  },
  {
   "cell_type": "code",
   "execution_count": 9,
   "metadata": {},
   "outputs": [
    {
     "data": {
      "text/plain": [
       "array([0., 0., 0., 0., 1., 1., 0., 1., 1., 0., 0., 0., 1., 1., 1., 1.])"
      ]
     },
     "execution_count": 9,
     "metadata": {},
     "output_type": "execute_result"
    }
   ],
   "source": [
    "pred_labels"
   ]
  },
  {
   "cell_type": "code",
   "execution_count": 10,
   "metadata": {},
   "outputs": [
    {
     "data": {
      "text/plain": [
       "array([0.08282345, 0.09061604, 0.10705678, 0.08282345, 0.63649559,\n",
       "       0.69155317, 0.17509634, 0.68176017, 0.63834146, 0.12263352,\n",
       "       0.12369764, 0.11528636, 0.76537756, 0.76716429, 0.76619201,\n",
       "       0.77489461])"
      ]
     },
     "execution_count": 10,
     "metadata": {},
     "output_type": "execute_result"
    }
   ],
   "source": [
    "pred_proba"
   ]
  },
  {
   "cell_type": "code",
   "execution_count": 11,
   "metadata": {},
   "outputs": [
    {
     "name": "stdout",
     "output_type": "stream",
     "text": [
      "[0.   0.   0.   0.75 1.  ] [0.    0.125 1.    1.    1.   ]\n",
      "Accuracy: 1.0\n",
      "F1-score: 1.0\n",
      "ROC_AUC: 1.0\n"
     ]
    },
    {
     "data": {
      "text/plain": [
       "<Figure size 720x720 with 0 Axes>"
      ]
     },
     "metadata": {},
     "output_type": "display_data"
    }
   ],
   "source": [
    "acc, f1, roc_auc, precision = classification_eval(true_labels, pred_labels,pred_proba, classes={0,1})\n",
    "print('Accuracy: {}\\nF1-score: {}\\nROC_AUC: {}'.format(acc, f1, roc_auc))"
   ]
  },
  {
   "cell_type": "code",
   "execution_count": 12,
   "metadata": {},
   "outputs": [
    {
     "data": {
      "text/plain": [
       "(array([0.  , 0.  , 0.  , 0.75, 1.  ]),\n",
       " array([0.   , 0.125, 1.   , 1.   , 1.   ]),\n",
       " 1.0)"
      ]
     },
     "execution_count": 12,
     "metadata": {},
     "output_type": "execute_result"
    },
    {
     "data": {
      "image/png": "[encoded data removed]",
      "text/plain": [
       "<Figure size 720x720 with 1 Axes>"
      ]
     },
     "metadata": {
      "needs_background": "light"
     },
     "output_type": "display_data"
    }
   ],
   "source": [
    "ROC(true_labels, pred_proba, classes={0,1}, plot=True, title='SRP127360 TPM')"
   ]
  },
  {
   "cell_type": "code",
   "execution_count": 13,
   "metadata": {},
   "outputs": [
    {
     "data": {
      "image/png": "[encoded data removed]",
      "text/plain": [
       "<Figure size 720x720 with 2 Axes>"
      ]
     },
     "metadata": {
      "needs_background": "light"
     },
     "output_type": "display_data"
    },
    {
     "data": {
      "text/plain": [
       "array([[8, 0],\n",
       "       [0, 8]])"
      ]
     },
     "execution_count": 13,
     "metadata": {},
     "output_type": "execute_result"
    }
   ],
   "source": [
    "confusion(true_labels, list(pred_labels), plot=True, title='SRP127360 TPM Confusion Matrix',fontsize=16,cmap='tab20',normalize=False)\n"
   ]
  },
  {
   "cell_type": "code",
   "execution_count": 14,
   "metadata": {},
   "outputs": [
    {
     "data": {
      "text/plain": [
       "(16, 1)"
      ]
     },
     "execution_count": 14,
     "metadata": {},
     "output_type": "execute_result"
    }
   ],
   "source": [
    "pred_labels.reshape(-1,1).shape"
   ]
  },
  {
   "cell_type": "code",
   "execution_count": 15,
   "metadata": {},
   "outputs": [],
   "source": [
    "srp_fpkm_df = pd.read_csv(\"../results/SRP127360_FPKM_log2_plus_1.balanced_maxdepth1_results.tsv\", index_col=0, sep='\\t')\n",
    "true_labels = np.array([1 if 'T' in x else 0 for x in srp_fpkm_df.index])\n",
    "pred_labels = srp_fpkm_df.Ribo.values"
   ]
  },
  {
   "cell_type": "code",
   "execution_count": 19,
   "metadata": {},
   "outputs": [],
   "source": [
    "pred_proba = srp_fpkm_df.Proba_1.values"
   ]
  },
  {
   "cell_type": "code",
   "execution_count": 21,
   "metadata": {},
   "outputs": [
    {
     "name": "stdout",
     "output_type": "stream",
     "text": [
      "[0.  0.  0.  0.5 1. ] [0.    0.125 1.    1.    1.   ]\n",
      "Accuracy: 1.0\n",
      "F1-score: 1.0\n",
      "ROC_AUC: 1.0\n"
     ]
    },
    {
     "data": {
      "text/plain": [
       "<Figure size 720x720 with 0 Axes>"
      ]
     },
     "metadata": {},
     "output_type": "display_data"
    }
   ],
   "source": [
    "acc, f1, roc_auc, precision = classification_eval(true_labels, pred_labels,pred_proba, classes={0,1})\n",
    "print('Accuracy: {}\\nF1-score: {}\\nROC_AUC: {}'.format(acc, f1, roc_auc))"
   ]
  },
  {
   "cell_type": "code",
   "execution_count": 17,
   "metadata": {},
   "outputs": [
    {
     "data": {
      "text/plain": [
       "(array([0., 0., 1.]), array([0., 1., 1.]), 1.0)"
      ]
     },
     "execution_count": 17,
     "metadata": {},
     "output_type": "execute_result"
    },
    {
     "data": {
      "image/png": "[encoded data removed]",
      "text/plain": [
       "<Figure size 720x720 with 1 Axes>"
      ]
     },
     "metadata": {
      "needs_background": "light"
     },
     "output_type": "display_data"
    }
   ],
   "source": [
    "ROC(true_labels, pred_labels, classes={0,1}, plot=True,title='SRP127360 FPKM')"
   ]
  },
  {
   "cell_type": "code",
   "execution_count": 18,
   "metadata": {},
   "outputs": [
    {
     "data": {
      "image/png": "[encoded data removed]",
      "text/plain": [
       "<Figure size 720x720 with 2 Axes>"
      ]
     },
     "metadata": {
      "needs_background": "light"
     },
     "output_type": "display_data"
    },
    {
     "data": {
      "text/plain": [
       "array([[8, 0],\n",
       "       [0, 8]])"
      ]
     },
     "execution_count": 18,
     "metadata": {},
     "output_type": "execute_result"
    }
   ],
   "source": [
    "confusion(true_labels, list(pred_labels), plot=True, title='SRP127360 FPKM Confusion Matrix',fontsize=16,cmap='tab20',normalize=False)\n"
   ]
  },
  {
   "cell_type": "code",
   "execution_count": null,
   "metadata": {},
   "outputs": [],
   "source": []
  }
 ],
 "metadata": {
  "kernelspec": {
   "display_name": "Python 3",
   "language": "python",
   "name": "python3"
  },
  "language_info": {
   "codemirror_mode": {
    "name": "ipython",
    "version": 3
   },
   "file_extension": ".py",
   "mimetype": "text/x-python",
   "name": "python",
   "nbconvert_exporter": "python",
   "pygments_lexer": "ipython3",
   "version": "3.7.3"
  }
 },
 "nbformat": 4,
 "nbformat_minor": 2
}
