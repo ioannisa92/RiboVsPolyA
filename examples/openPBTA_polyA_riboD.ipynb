{
 "cells": [
  {
   "cell_type": "code",
   "execution_count": 6,
   "id": "awful-penalty",
   "metadata": {},
   "outputs": [],
   "source": [
    "import pandas as pd\n",
    "import numpy as np\n",
    "import pickle\n",
    "import argparse\n",
    "import sys\n",
    "import os\n",
    "from sklearn.metrics import f1_score, precision_recall_curve, average_precision_score, auc, confusion_matrix\n",
    "import seaborn as sns\n",
    "import matplotlib.pyplot as plt\n",
    "import os\n",
    "os.chdir(os.getcwd())"
   ]
  },
  {
   "cell_type": "code",
   "execution_count": 7,
   "id": "moved-termination",
   "metadata": {},
   "outputs": [
    {
     "data": {
      "text/plain": [
       "'/mnt/RiboVsPolyA_Feb2022/examples'"
      ]
     },
     "execution_count": 7,
     "metadata": {},
     "output_type": "execute_result"
    }
   ],
   "source": [
    "os.getcwd()"
   ]
  },
  {
   "cell_type": "markdown",
   "id": "protected-dollar",
   "metadata": {},
   "source": [
    "### Following is code from RF_deploy.py"
   ]
  },
  {
   "cell_type": "code",
   "execution_count": 8,
   "id": "recovered-packet",
   "metadata": {},
   "outputs": [],
   "source": [
    "def gene_checker(input_file):\n",
    "    '''\n",
    "    Function checks the input file's genes.\n",
    "    The intersection between the input file's genes and the predetermined classifier genes is taken.\n",
    "    Then the function checks for genes are not present in the input file.\n",
    "    For those genes, the expression vector is set to 0.\n",
    "    A new dataframe is returned with the correct order of genes.\n",
    "\n",
    "    Parameters\n",
    "    ----------\n",
    "    input_file; pandas df - shape should be (samples x genes)\n",
    "    \n",
    "    Returns\n",
    "    ---------\n",
    "    new_input_file; pandas df - shape (samples x genes)\n",
    "    '''\n",
    "    \n",
    "    classifier_genes = np.loadtxt('../data/ClassifierGenes.txt', dtype='str')\n",
    "    classifier_genes_meanexpr = np.load('../data/ClassifierGenes_MeanExpr.npy', allow_pickle=True).item()\n",
    "    common_genes = set(classifier_genes).intersection(input_file.columns)\n",
    "    uncommon_genes = set(classifier_genes).difference(input_file.columns)\n",
    "    #new_input_file = input_file.T.loc[classifier_genes].T # seleting classifier selected genes in the classifier determined order\n",
    "    print(len(common_genes ))\n",
    "    for gene in uncommon_genes:\n",
    "        input_file[gene] = [classifier_genes_meanexpr[gene]]*input_file.shape[0]\n",
    "\n",
    "    new_input_file = input_file.T.loc[classifier_genes].T\n",
    "\n",
    "    # will fill genes that do not exist in the input with zero\n",
    "    # if no NAN values, none will be filled\n",
    "    new_input_file = new_input_file.fillna(0) \n",
    "    \n",
    "    return new_input_file\n",
    "\n",
    "def deploy(input_file, rf_model=None, model_path=None):\n",
    "\n",
    "    expr_input = input_file\n",
    "        \n",
    "    print('reading input...')\n",
    "    if isinstance(input_file, pd.DataFrame):\n",
    "        expr_input = input_file\n",
    "    else:\n",
    "        expr_input = pd.read_csv(expr_input, sep='\\t', index_col=0)\n",
    "\n",
    "    print(\"before gene intersection...\")\n",
    "    print(expr_input.shape)\n",
    "    expr_input = gene_checker(expr_input) # making sure genes are correct for classifier\n",
    "    print(\"After gene intersection...\")\n",
    "    print(expr_input.shape)\n",
    "    \n",
    "    if model_path is not None:\n",
    "        print('applying model...')\n",
    "        model = pickle.load(open(model_path, 'rb'))\n",
    "        #print(model)\n",
    "    if rf_model is not None:\n",
    "        print('applying model...')\n",
    "        model = rf_model\n",
    "        #print(model)\n",
    "    print(expr_input.shape)\n",
    "    predictions = model.predict(expr_input)\n",
    "    predict_proba = model.predict_proba(expr_input)\n",
    "    \n",
    "    print(\"saving results...\")\n",
    "    predictions = pd.DataFrame(np.hstack([predictions.reshape(-1,1), predict_proba]), index=expr_input.index, columns=['Ribo', 'Proba_0', 'Proba_1'])\n",
    "\n",
    "    return predictions"
   ]
  },
  {
   "cell_type": "markdown",
   "id": "strange-rebecca",
   "metadata": {},
   "source": [
    "# Applying **balanced** model on openPBTA TPM polyA samples"
   ]
  },
  {
   "cell_type": "code",
   "execution_count": 30,
   "id": "interesting-learning",
   "metadata": {},
   "outputs": [
    {
     "name": "stdout",
     "output_type": "stream",
     "text": [
      "reading input\n"
     ]
    }
   ],
   "source": [
    "print('reading input')\n",
    "input_file = pd.read_csv(\"../data/pbta-gene-expression-rsem-log2tpm_plus_1.polya.tsv\", sep='\\t', index_col=0)"
   ]
  },
  {
   "cell_type": "code",
   "execution_count": 10,
   "id": "portable-porcelain",
   "metadata": {},
   "outputs": [
    {
     "name": "stdout",
     "output_type": "stream",
     "text": [
      "testing max_depth 1\n",
      "reading input...\n",
      "before gene intersection...\n",
      "(58, 58347)\n",
      "4744\n",
      "After gene intersection...\n",
      "(58, 5000)\n",
      "applying model...\n",
      "(58, 5000)\n",
      "saving results...\n",
      "Percentage of polyA samples correctly classified 1.000\n",
      "testing max_depth 2\n",
      "reading input...\n",
      "before gene intersection...\n",
      "(58, 58603)\n",
      "5000\n",
      "After gene intersection...\n",
      "(58, 5000)\n",
      "applying model...\n",
      "(58, 5000)\n",
      "saving results...\n",
      "Percentage of polyA samples correctly classified 1.000\n",
      "testing max_depth 3\n",
      "reading input...\n",
      "before gene intersection...\n",
      "(58, 58603)\n",
      "5000\n",
      "After gene intersection...\n",
      "(58, 5000)\n",
      "applying model...\n",
      "(58, 5000)\n",
      "saving results...\n",
      "Percentage of polyA samples correctly classified 1.000\n",
      "testing max_depth 4\n",
      "reading input...\n",
      "before gene intersection...\n",
      "(58, 58603)\n",
      "5000\n",
      "After gene intersection...\n",
      "(58, 5000)\n",
      "applying model...\n",
      "(58, 5000)\n",
      "saving results...\n",
      "Percentage of polyA samples correctly classified 1.000\n",
      "testing max_depth 5\n",
      "reading input...\n",
      "before gene intersection...\n",
      "(58, 58603)\n",
      "5000\n",
      "After gene intersection...\n",
      "(58, 5000)\n",
      "applying model...\n",
      "(58, 5000)\n",
      "saving results...\n",
      "Percentage of polyA samples correctly classified 1.000\n",
      "testing max_depth 6\n",
      "reading input...\n",
      "before gene intersection...\n",
      "(58, 58603)\n",
      "5000\n",
      "After gene intersection...\n",
      "(58, 5000)\n",
      "applying model...\n",
      "(58, 5000)\n",
      "saving results...\n",
      "Percentage of polyA samples correctly classified 1.000\n",
      "testing max_depth 7\n",
      "reading input...\n",
      "before gene intersection...\n",
      "(58, 58603)\n",
      "5000\n",
      "After gene intersection...\n",
      "(58, 5000)\n",
      "applying model...\n",
      "(58, 5000)\n",
      "saving results...\n",
      "Percentage of polyA samples correctly classified 1.000\n",
      "testing max_depth 8\n",
      "reading input...\n",
      "before gene intersection...\n",
      "(58, 58603)\n",
      "5000\n",
      "After gene intersection...\n",
      "(58, 5000)\n",
      "applying model...\n",
      "(58, 5000)\n",
      "saving results...\n",
      "Percentage of polyA samples correctly classified 1.000\n"
     ]
    },
    {
     "data": {
      "image/png": "[encoded data removed]",
      "text/plain": [
       "<Figure size 432x288 with 1 Axes>"
      ]
     },
     "metadata": {
      "needs_background": "light"
     },
     "output_type": "display_data"
    }
   ],
   "source": [
    "models_dir = '../models/'\n",
    "auc_list = []\n",
    "acc_list = []\n",
    "mean_precision_list = []\n",
    "for depth in np.arange(1,9):\n",
    "    print('testing max_depth %d'%depth)\n",
    "    model_path = models_dir+\"RiboVsPoly_balanced_max_depth_%d.sav\"%depth\n",
    "    \n",
    "    balanced_predictions = deploy(input_file, model_path=model_path)\n",
    "    try:\n",
    "        res = balanced_predictions.Ribo.value_counts().loc[1.0]/balanced_predictions.shape[0]\n",
    "        acc_list += [res]\n",
    "        print('Percentage of polyA samples correctly classified %.3f'%res)\n",
    "    except:\n",
    "        res = 1\n",
    "        acc_list+=[res]\n",
    "        print('Percentage of polyA samples correctly classified %.3f'%res)\n",
    "    \n",
    "    y_proba = balanced_predictions.Proba_1.values\n",
    "    precision, recall, _ = precision_recall_curve(np.array(input_file.shape[0]*[1]), y_proba.flatten(), pos_label=1)\n",
    "    mean_precision = average_precision_score(np.array(input_file.shape[0]*[1]), y_proba.flatten(), pos_label=1)\n",
    "    mean_precision_list += [mean_precision]\n",
    "    balanced_auc = auc(recall, precision)\n",
    "    \n",
    "    auc_list += [ balanced_auc]\n",
    "plt.plot(acc_list)\n",
    "plt.ylabel('% of Samples Correctly Classified')\n",
    "plt.xlabel('Max Depth')\n",
    "plt.title(\"OpenPBTA polyA Classification across max depth\")\n",
    "plt.xticks(ticks=np.arange(0,8), labels=map(lambda x:str(x), np.arange(1,9)))\n",
    "plt.show()\n",
    "plt.close()"
   ]
  },
  {
   "cell_type": "code",
   "execution_count": 11,
   "id": "unnecessary-philip",
   "metadata": {},
   "outputs": [
    {
     "name": "stdout",
     "output_type": "stream",
     "text": [
      "reading input...\n",
      "before gene intersection...\n",
      "(58, 58603)\n",
      "5000\n",
      "After gene intersection...\n",
      "(58, 5000)\n",
      "applying model...\n",
      "(58, 5000)\n",
      "saving results...\n"
     ]
    }
   ],
   "source": [
    "balanced_predictions = deploy(input_file, model_path='../models/RiboVsPoly_balanced_max_depth_3.sav')"
   ]
  },
  {
   "cell_type": "code",
   "execution_count": 12,
   "id": "entertaining-shanghai",
   "metadata": {},
   "outputs": [
    {
     "data": {
      "text/plain": [
       "0.0    58\n",
       "Name: Ribo, dtype: int64"
      ]
     },
     "execution_count": 12,
     "metadata": {},
     "output_type": "execute_result"
    }
   ],
   "source": [
    "# All samples were predicted to be polyA\n",
    "balanced_predictions.Ribo.value_counts()"
   ]
  },
  {
   "cell_type": "code",
   "execution_count": 13,
   "id": "medium-protection",
   "metadata": {},
   "outputs": [],
   "source": [
    "balanced_predictions.to_csv(\"../results/pbta-gene-expression-rsem.polya_log2tpm_plus_1.balanced_maxdepth3_results.tsv\", sep='\\t')"
   ]
  },
  {
   "cell_type": "markdown",
   "id": "attempted-mason",
   "metadata": {},
   "source": [
    "## TPM polyA classification performance"
   ]
  },
  {
   "cell_type": "code",
   "execution_count": 14,
   "id": "compliant-offer",
   "metadata": {},
   "outputs": [
    {
     "data": {
      "text/plain": [
       "Text(0.5, 1.0, 'Balanced Model on PolyA PBTA')"
      ]
     },
     "execution_count": 14,
     "metadata": {},
     "output_type": "execute_result"
    },
    {
     "data": {
      "image/png": "[encoded data removed]",
      "text/plain": [
       "<Figure size 432x288 with 2 Axes>"
      ]
     },
     "metadata": {
      "needs_background": "light"
     },
     "output_type": "display_data"
    }
   ],
   "source": [
    "true_labels = 58*[0]\n",
    "pred_labels = balanced_predictions.Ribo.values\n",
    "\n",
    "mat = confusion_matrix(true_labels, pred_labels)\n",
    "ax = sns.heatmap(mat, annot=True)\n",
    "ax.set_ylabel(\"True Label\", fontsize=16)\n",
    "ax.set_xlabel(\"Predicted Label\", fontsize=16)\n",
    "ax.set_xticks([0], ['PolyA'])\n",
    "\n",
    "ax.set_title(\"Balanced Model on PolyA PBTA\", fontsize=17)"
   ]
  },
  {
   "cell_type": "markdown",
   "id": "closed-stretch",
   "metadata": {},
   "source": [
    "## Compare to logistic classifier"
   ]
  },
  {
   "cell_type": "code",
   "execution_count": 31,
   "id": "negative-monthly",
   "metadata": {},
   "outputs": [
    {
     "name": "stdout",
     "output_type": "stream",
     "text": [
      "reading input...\n",
      "before gene intersection...\n",
      "(58, 58347)\n",
      "4744\n",
      "After gene intersection...\n",
      "(58, 5000)\n",
      "applying model...\n",
      "(58, 5000)\n",
      "saving results...\n"
     ]
    },
    {
     "name": "stderr",
     "output_type": "stream",
     "text": [
      "/home/ubuntu/.local/lib/python3.5/site-packages/sklearn/base.py:318: UserWarning: Trying to unpickle estimator LogisticRegression from version 0.24.1 when using version 0.22.2.post1. This might lead to breaking code or invalid results. Use at your own risk.\n",
      "  UserWarning)\n"
     ]
    }
   ],
   "source": [
    "logistic_balanced_predictions = deploy(input_file, model_path='../models/logistic_regression_model.sav')"
   ]
  },
  {
   "cell_type": "code",
   "execution_count": 32,
   "id": "immediate-incident",
   "metadata": {},
   "outputs": [
    {
     "data": {
      "text/plain": [
       "0.0    58\n",
       "Name: Ribo, dtype: int64"
      ]
     },
     "execution_count": 32,
     "metadata": {},
     "output_type": "execute_result"
    }
   ],
   "source": [
    "logistic_balanced_predictions.Ribo.value_counts()"
   ]
  },
  {
   "cell_type": "code",
   "execution_count": 36,
   "id": "regular-wildlife",
   "metadata": {},
   "outputs": [
    {
     "data": {
      "text/plain": [
       "Text(0.5, 1.0, 'Logistic Model on PolyA PBTA')"
      ]
     },
     "execution_count": 36,
     "metadata": {},
     "output_type": "execute_result"
    },
    {
     "data": {
      "image/png": "[encoded data removed]",
      "text/plain": [
       "<Figure size 432x288 with 2 Axes>"
      ]
     },
     "metadata": {
      "needs_background": "light"
     },
     "output_type": "display_data"
    }
   ],
   "source": [
    "true_labels = 58*[0]\n",
    "pred_labels = logistic_balanced_predictions.Ribo.values\n",
    "\n",
    "mat = confusion_matrix(true_labels, pred_labels)\n",
    "ax = sns.heatmap(mat, annot=True)\n",
    "ax.set_ylabel(\"True Label\", fontsize=16)\n",
    "ax.set_xlabel(\"Predicted Label\", fontsize=16)\n",
    "ax.set_xticks([0], ['PolyA'])\n",
    "\n",
    "ax.set_title(\"Logistic Model on PolyA PBTA\", fontsize=17)"
   ]
  },
  {
   "cell_type": "markdown",
   "id": "hundred-bunny",
   "metadata": {},
   "source": [
    "# Applying **balanced** model on TPM openPBTA RiboD samples"
   ]
  },
  {
   "cell_type": "code",
   "execution_count": 15,
   "id": "hungarian-graduate",
   "metadata": {},
   "outputs": [
    {
     "name": "stdout",
     "output_type": "stream",
     "text": [
      "reading input\n"
     ]
    }
   ],
   "source": [
    "print('reading input')\n",
    "input_file = pd.read_csv(\"../data/pbta-gene-expression-rsem-log2tpm_plus_1.stranded.tsv\", sep='\\t', index_col=0)"
   ]
  },
  {
   "cell_type": "code",
   "execution_count": 16,
   "id": "noted-duration",
   "metadata": {},
   "outputs": [
    {
     "name": "stdout",
     "output_type": "stream",
     "text": [
      "testing max_depth 1\n",
      "reading input...\n",
      "before gene intersection...\n",
      "(970, 58347)\n",
      "4744\n",
      "After gene intersection...\n",
      "(970, 5000)\n",
      "applying model...\n",
      "(970, 5000)\n",
      "saving results...\n",
      "Percentage of RiboD samples correctly classified 1.000\n",
      "testing max_depth 2\n",
      "reading input...\n",
      "before gene intersection...\n",
      "(970, 58603)\n",
      "5000\n",
      "After gene intersection...\n",
      "(970, 5000)\n",
      "applying model...\n",
      "(970, 5000)\n",
      "saving results...\n",
      "Percentage of RiboD samples correctly classified 0.999\n",
      "testing max_depth 3\n",
      "reading input...\n",
      "before gene intersection...\n",
      "(970, 58603)\n",
      "5000\n",
      "After gene intersection...\n",
      "(970, 5000)\n",
      "applying model...\n",
      "(970, 5000)\n",
      "saving results...\n",
      "Percentage of RiboD samples correctly classified 0.997\n",
      "testing max_depth 4\n",
      "reading input...\n",
      "before gene intersection...\n",
      "(970, 58603)\n",
      "5000\n",
      "After gene intersection...\n",
      "(970, 5000)\n",
      "applying model...\n",
      "(970, 5000)\n",
      "saving results...\n",
      "Percentage of RiboD samples correctly classified 0.996\n",
      "testing max_depth 5\n",
      "reading input...\n",
      "before gene intersection...\n",
      "(970, 58603)\n",
      "5000\n",
      "After gene intersection...\n",
      "(970, 5000)\n",
      "applying model...\n",
      "(970, 5000)\n",
      "saving results...\n",
      "Percentage of RiboD samples correctly classified 0.996\n",
      "testing max_depth 6\n",
      "reading input...\n",
      "before gene intersection...\n",
      "(970, 58603)\n",
      "5000\n",
      "After gene intersection...\n",
      "(970, 5000)\n",
      "applying model...\n",
      "(970, 5000)\n",
      "saving results...\n",
      "Percentage of RiboD samples correctly classified 0.997\n",
      "testing max_depth 7\n",
      "reading input...\n",
      "before gene intersection...\n",
      "(970, 58603)\n",
      "5000\n",
      "After gene intersection...\n",
      "(970, 5000)\n",
      "applying model...\n",
      "(970, 5000)\n",
      "saving results...\n",
      "Percentage of RiboD samples correctly classified 0.995\n",
      "testing max_depth 8\n",
      "reading input...\n",
      "before gene intersection...\n",
      "(970, 58603)\n",
      "5000\n",
      "After gene intersection...\n",
      "(970, 5000)\n",
      "applying model...\n",
      "(970, 5000)\n",
      "saving results...\n",
      "Percentage of RiboD samples correctly classified 0.997\n"
     ]
    },
    {
     "data": {
      "image/png": "[encoded data removed]",
      "text/plain": [
       "<Figure size 432x288 with 1 Axes>"
      ]
     },
     "metadata": {
      "needs_background": "light"
     },
     "output_type": "display_data"
    }
   ],
   "source": [
    "models_dir = '../models/'\n",
    "auc_list = []\n",
    "acc_list = []\n",
    "mean_precision_list = []\n",
    "for depth in np.arange(1,9):\n",
    "    print('testing max_depth %d'%depth)\n",
    "    model_path = models_dir+\"RiboVsPoly_balanced_max_depth_%d.sav\"%depth\n",
    "    \n",
    "    balanced_predictions = deploy(input_file, model_path=model_path)\n",
    "    try:\n",
    "        res = balanced_predictions.Ribo.value_counts().loc[1.0]/balanced_predictions.shape[0]\n",
    "        acc_list += [res]\n",
    "        print('Percentage of RiboD samples correctly classified %.3f'%res)\n",
    "    except:\n",
    "        res = 0\n",
    "        acc_list+=[res]\n",
    "        print('Percentage of RiboD samples correctly classified %.3f'%res)\n",
    "    \n",
    "    y_proba = balanced_predictions.Proba_1.values\n",
    "    precision, recall, _ = precision_recall_curve(np.array(input_file.shape[0]*[1]), y_proba.flatten(), pos_label=1)\n",
    "    mean_precision = average_precision_score(np.array(input_file.shape[0]*[1]), y_proba.flatten(), pos_label=1)\n",
    "    mean_precision_list += [mean_precision]\n",
    "    balanced_auc = auc(recall, precision)\n",
    "    \n",
    "    auc_list += [ balanced_auc]\n",
    "plt.plot(acc_list)\n",
    "plt.ylabel('% of Samples Correctly Classified')\n",
    "plt.xlabel('Max Depth')\n",
    "plt.title(\"OpenPBTA RiboD Classification across max depth\")\n",
    "plt.xticks(ticks=np.arange(0,8), labels=map(lambda x:str(x), np.arange(1,9)))\n",
    "plt.show()\n",
    "plt.close()"
   ]
  },
  {
   "cell_type": "code",
   "execution_count": 21,
   "id": "traditional-guidance",
   "metadata": {},
   "outputs": [
    {
     "name": "stdout",
     "output_type": "stream",
     "text": [
      "reading input...\n",
      "before gene intersection...\n",
      "(970, 58603)\n",
      "5000\n",
      "After gene intersection...\n",
      "(970, 5000)\n",
      "applying model...\n",
      "(970, 5000)\n",
      "saving results...\n"
     ]
    }
   ],
   "source": [
    "balanced_predictions = deploy(input_file, model_path='../models/RiboVsPoly_balanced_max_depth_2.sav')"
   ]
  },
  {
   "cell_type": "code",
   "execution_count": 22,
   "id": "cutting-consultation",
   "metadata": {},
   "outputs": [
    {
     "data": {
      "text/plain": [
       "1.0    969\n",
       "0.0      1\n",
       "Name: Ribo, dtype: int64"
      ]
     },
     "execution_count": 22,
     "metadata": {},
     "output_type": "execute_result"
    }
   ],
   "source": [
    "balanced_predictions.Ribo.value_counts()"
   ]
  },
  {
   "cell_type": "code",
   "execution_count": 23,
   "id": "editorial-complaint",
   "metadata": {},
   "outputs": [],
   "source": [
    "balanced_predictions.to_csv(\"../results/pbta-gene-expression-rsem.stranded_log2tpm_plus_1.balanced_maxdepth2_results.tsv\", sep='\\t')"
   ]
  },
  {
   "cell_type": "code",
   "execution_count": 24,
   "id": "ruled-nothing",
   "metadata": {},
   "outputs": [
    {
     "name": "stdout",
     "output_type": "stream",
     "text": [
      "Percentage of RiboD samples correctly classified 0.999\n"
     ]
    }
   ],
   "source": [
    "res = balanced_predictions.Ribo.value_counts().loc[1.0]/balanced_predictions.shape[0]\n",
    "print('Percentage of RiboD samples correctly classified %.3f'%res)"
   ]
  },
  {
   "cell_type": "markdown",
   "id": "dirty-venture",
   "metadata": {},
   "source": [
    "## TPM riboD classification performance"
   ]
  },
  {
   "cell_type": "code",
   "execution_count": 25,
   "id": "historic-employee",
   "metadata": {},
   "outputs": [
    {
     "data": {
      "text/plain": [
       "Text(0.5, 1.0, 'Balanced Model on RiboD PBTA')"
      ]
     },
     "execution_count": 25,
     "metadata": {},
     "output_type": "execute_result"
    },
    {
     "data": {
      "image/png": "[encoded data removed]",
      "text/plain": [
       "<Figure size 432x288 with 2 Axes>"
      ]
     },
     "metadata": {
      "needs_background": "light"
     },
     "output_type": "display_data"
    }
   ],
   "source": [
    "true_labels = balanced_predictions.shape[0]*[1]\n",
    "pred_labels = balanced_predictions.Ribo.values\n",
    "\n",
    "mat = confusion_matrix(true_labels, pred_labels)\n",
    "ax = sns.heatmap(mat, annot=True)\n",
    "ax.set_ylabel(\"True Label\", fontsize=16)\n",
    "ax.set_xlabel(\"Predicted Label\", fontsize=16)\n",
    "plt.xticks(ticks=[0,1], labels=['PolyA','RiboD'])\n",
    "plt.yticks(ticks=[0,1], labels=['PolyA','RiboD'])\n",
    "ax.set_title(\"Balanced Model on RiboD PBTA\", fontsize=17)"
   ]
  },
  {
   "cell_type": "markdown",
   "id": "rising-pilot",
   "metadata": {},
   "source": [
    "## Compare to logistic classifier"
   ]
  },
  {
   "cell_type": "code",
   "execution_count": 26,
   "id": "economic-fiber",
   "metadata": {},
   "outputs": [
    {
     "name": "stdout",
     "output_type": "stream",
     "text": [
      "reading input...\n",
      "before gene intersection...\n",
      "(970, 58603)\n",
      "5000\n",
      "After gene intersection...\n",
      "(970, 5000)\n",
      "applying model...\n",
      "(970, 5000)\n",
      "saving results...\n"
     ]
    },
    {
     "name": "stderr",
     "output_type": "stream",
     "text": [
      "/home/ubuntu/.local/lib/python3.5/site-packages/sklearn/base.py:318: UserWarning: Trying to unpickle estimator LogisticRegression from version 0.24.1 when using version 0.22.2.post1. This might lead to breaking code or invalid results. Use at your own risk.\n",
      "  UserWarning)\n"
     ]
    }
   ],
   "source": [
    "logistic_balanced_predictions = deploy(input_file, model_path='../models/logistic_regression_model.sav')"
   ]
  },
  {
   "cell_type": "code",
   "execution_count": 27,
   "id": "sunset-regard",
   "metadata": {},
   "outputs": [
    {
     "data": {
      "text/plain": [
       "1.0    877\n",
       "0.0     93\n",
       "Name: Ribo, dtype: int64"
      ]
     },
     "execution_count": 27,
     "metadata": {},
     "output_type": "execute_result"
    }
   ],
   "source": [
    "logistic_balanced_predictions.Ribo.value_counts()"
   ]
  },
  {
   "cell_type": "code",
   "execution_count": 29,
   "id": "electrical-polls",
   "metadata": {},
   "outputs": [
    {
     "name": "stdout",
     "output_type": "stream",
     "text": [
      "Percentage of RiboD samples correctly classified 0.904\n"
     ]
    }
   ],
   "source": [
    "res = logistic_balanced_predictions.Ribo.value_counts().loc[1.0]/balanced_predictions.shape[0]\n",
    "print('Percentage of RiboD samples correctly classified %.3f'%res)"
   ]
  },
  {
   "cell_type": "code",
   "execution_count": 28,
   "id": "wired-possible",
   "metadata": {},
   "outputs": [
    {
     "data": {
      "text/plain": [
       "Text(0.5, 1.0, 'Logistic Model on RiboD PBTA')"
      ]
     },
     "execution_count": 28,
     "metadata": {},
     "output_type": "execute_result"
    },
    {
     "data": {
      "image/png": "[encoded data removed]",
      "text/plain": [
       "<Figure size 432x288 with 2 Axes>"
      ]
     },
     "metadata": {
      "needs_background": "light"
     },
     "output_type": "display_data"
    }
   ],
   "source": [
    "true_labels = logistic_balanced_predictions.shape[0]*[1]\n",
    "pred_labels = logistic_balanced_predictions.Ribo.values\n",
    "\n",
    "mat = confusion_matrix(true_labels, pred_labels)\n",
    "ax = sns.heatmap(mat, annot=True)\n",
    "ax.set_ylabel(\"True Label\", fontsize=16)\n",
    "ax.set_xlabel(\"Predicted Label\", fontsize=16)\n",
    "plt.xticks(ticks=[0,1], labels=['PolyA','RiboD'])\n",
    "plt.yticks(ticks=[0,1], labels=['PolyA','RiboD'])\n",
    "ax.set_title(\"Logistic Model on RiboD PBTA\", fontsize=17)"
   ]
  },
  {
   "cell_type": "code",
   "execution_count": null,
   "id": "motivated-customer",
   "metadata": {},
   "outputs": [],
   "source": []
  }
 ],
 "metadata": {
  "kernelspec": {
   "display_name": "Python 3",
   "language": "python",
   "name": "python3"
  },
  "language_info": {
   "codemirror_mode": {
    "name": "ipython",
    "version": 3
   },
   "file_extension": ".py",
   "mimetype": "text/x-python",
   "name": "python",
   "nbconvert_exporter": "python",
   "pygments_lexer": "ipython3",
   "version": "3.5.2"
  }
 },
 "nbformat": 4,
 "nbformat_minor": 5
}
